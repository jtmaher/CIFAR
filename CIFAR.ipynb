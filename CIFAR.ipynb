{
 "cells": [
  {
   "cell_type": "code",
   "execution_count": null,
   "metadata": {},
   "outputs": [],
   "source": [
    "from data import CIFAR10\n",
    "from model import Model\n",
    "import numpy as np"
   ]
  },
  {
   "cell_type": "code",
   "execution_count": 2,
   "metadata": {
    "collapsed": true
   },
   "outputs": [],
   "source": [
    "def eval_hidden(m, d):\n",
    "    bs = 100\n",
    "    nh = m.sizes[-1]\n",
    "    result = np.zeros([d.shape[0], nh])\n",
    "    print result.shape\n",
    "    \n",
    "    for i in range(d.shape[0]/bs):\n",
    "        st = i*bs\n",
    "        en = (i+1)*bs\n",
    "        result[st:en,:] = m.eval_hidden([d[st:en,:]])[0]\n",
    "    return result"
   ]
  },
  {
   "cell_type": "code",
   "execution_count": 50,
   "metadata": {
    "nbpresent": {
     "id": "644e20a5-8208-4462-9979-1eea18058181"
    }
   },
   "outputs": [],
   "source": [
    "m = Model(256, 128, 64, 128, 1e6)\n",
    "m.load('model_256_128_64_128')\n",
    "\n",
    "d = CIFAR10()"
   ]
  },
  {
   "cell_type": "code",
   "execution_count": null,
   "metadata": {
    "nbpresent": {
     "id": "983336dc-2000-43c2-97e1-edd398adf46a"
    }
   },
   "outputs": [
    {
     "name": "stdout",
     "output_type": "stream",
     "text": [
      "Train on 50000 samples, validate on 10000 samples\n",
      "Epoch 1/100\n",
      "50000/50000 [==============================] - 44s 884us/step - loss: 0.0074 - val_loss: 0.0078\n",
      "Epoch 2/100\n",
      "50000/50000 [==============================] - 44s 886us/step - loss: 0.0073 - val_loss: 0.0077\n",
      "Epoch 3/100\n",
      "50000/50000 [==============================] - 45s 894us/step - loss: 0.0073 - val_loss: 0.0077\n",
      "Epoch 4/100\n",
      "50000/50000 [==============================] - 45s 901us/step - loss: 0.0073 - val_loss: 0.0077\n",
      "Epoch 5/100\n",
      "50000/50000 [==============================] - 45s 898us/step - loss: 0.0073 - val_loss: 0.0080\n",
      "Epoch 6/100\n",
      "50000/50000 [==============================] - 45s 902us/step - loss: 0.0073 - val_loss: 0.0077\n",
      "Epoch 7/100\n",
      "50000/50000 [==============================] - 45s 908us/step - loss: 0.0073 - val_loss: 0.0077\n",
      "Epoch 8/100\n",
      "50000/50000 [==============================] - 46s 915us/step - loss: 0.0073 - val_loss: 0.0077\n",
      "Epoch 9/100\n",
      "50000/50000 [==============================] - 45s 903us/step - loss: 0.0073 - val_loss: 0.0077\n",
      "Epoch 10/100\n",
      "50000/50000 [==============================] - 45s 905us/step - loss: 0.0073 - val_loss: 0.0077\n",
      "Epoch 11/100\n",
      "50000/50000 [==============================] - 46s 912us/step - loss: 0.0073 - val_loss: 0.0077\n",
      "Epoch 12/100\n",
      "50000/50000 [==============================] - 45s 900us/step - loss: 0.0073 - val_loss: 0.0077\n",
      "Epoch 13/100\n",
      "50000/50000 [==============================] - 45s 902us/step - loss: 0.0073 - val_loss: 0.0077\n",
      "Epoch 14/100\n",
      "50000/50000 [==============================] - 45s 901us/step - loss: 0.0073 - val_loss: 0.0077\n",
      "Epoch 15/100\n",
      "50000/50000 [==============================] - 45s 903us/step - loss: 0.0073 - val_loss: 0.0078\n",
      "Epoch 16/100\n",
      "50000/50000 [==============================] - 45s 895us/step - loss: 0.0073 - val_loss: 0.0077\n",
      "Epoch 17/100\n",
      " 9088/50000 [====>.........................] - ETA: 33s - loss: 0.0073"
     ]
    }
   ],
   "source": [
    "m.fit(d, epochs=100)"
   ]
  },
  {
   "cell_type": "code",
   "execution_count": 59,
   "metadata": {
    "collapsed": true
   },
   "outputs": [],
   "source": [
    "m.save('model_512_256_128_128')"
   ]
  },
  {
   "cell_type": "code",
   "execution_count": 40,
   "metadata": {},
   "outputs": [
    {
     "name": "stdout",
     "output_type": "stream",
     "text": [
      "(10000, 128)\n"
     ]
    }
   ],
   "source": [
    "x=eval_hidden(m, d.test_x)"
   ]
  },
  {
   "cell_type": "code",
   "execution_count": 60,
   "metadata": {},
   "outputs": [
    {
     "data": {
      "image/png": "[encoded data removed]",
      "text/plain": [
       "<matplotlib.figure.Figure at 0x7fb823980190>"
      ]
     },
     "metadata": {},
     "output_type": "display_data"
    },
    {
     "data": {
      "image/png": "[encoded data removed]",
      "text/plain": [
       "<matplotlib.figure.Figure at 0x7fb82372b390>"
      ]
     },
     "metadata": {},
     "output_type": "display_data"
    }
   ],
   "source": [
    "%matplotlib inline\n",
    "import numpy as np\n",
    "m.comp(np.random.randint(d.test_x.shape[0]), d.train_x)"
   ]
  },
  {
   "cell_type": "code",
   "execution_count": null,
   "metadata": {
    "collapsed": true
   },
   "outputs": [],
   "source": []
  },
  {
   "cell_type": "code",
   "execution_count": null,
   "metadata": {
    "collapsed": true
   },
   "outputs": [],
   "source": []
  }
 ],
 "metadata": {
  "kernelspec": {
   "display_name": "Python 2",
   "language": "python",
   "name": "python2"
  },
  "language_info": {
   "codemirror_mode": {
    "name": "ipython",
    "version": 2
   },
   "file_extension": ".py",
   "mimetype": "text/x-python",
   "name": "python",
   "nbconvert_exporter": "python",
   "pygments_lexer": "ipython2",
   "version": "2.7.11"
  },
  "nbpresent": {
   "slides": {
    "2775b4b4-e132-4954-a2df-aecb9d21acac": {
     "id": "2775b4b4-e132-4954-a2df-aecb9d21acac",
     "prev": "c8c588e4-2c64-4d0b-b2f6-9817edc3814a",
     "regions": {
      "8d583b2e-474e-4c90-b3c6-4d7a10a7994f": {
       "attrs": {
        "height": 0.8,
        "width": 0.8,
        "x": 0.1,
        "y": 0.1
       },
       "content": {
        "cell": "983336dc-2000-43c2-97e1-edd398adf46a",
        "part": "whole"
       },
       "id": "8d583b2e-474e-4c90-b3c6-4d7a10a7994f"
      }
     }
    },
    "374061d9-bb7d-4178-b1f9-5acaa16c7f1e": {
     "id": "374061d9-bb7d-4178-b1f9-5acaa16c7f1e",
     "prev": "969c2528-3724-47a5-81e8-513732978b82",
     "regions": {
      "5b106b43-bca9-4bf7-a178-70a319ea55d6": {
       "attrs": {
        "height": 0.8,
        "width": 0.8,
        "x": 0.1,
        "y": 0.1
       },
       "content": {
        "cell": "6207c343-c3be-43c4-b214-1171f8c19030",
        "part": "whole"
       },
       "id": "5b106b43-bca9-4bf7-a178-70a319ea55d6"
      }
     }
    },
    "4828dad0-4f9a-4ca1-a3f0-46c7c73e6453": {
     "id": "4828dad0-4f9a-4ca1-a3f0-46c7c73e6453",
     "prev": null,
     "regions": {
      "aeac4466-0e90-4112-9b18-0edb95e5ba5e": {
       "attrs": {
        "height": 0.8,
        "width": 0.8,
        "x": 0.1,
        "y": 0.1
       },
       "content": {
        "cell": "fc928311-127b-4b4b-9da2-d29fdd052b8b",
        "part": "whole"
       },
       "id": "aeac4466-0e90-4112-9b18-0edb95e5ba5e"
      }
     }
    },
    "969c2528-3724-47a5-81e8-513732978b82": {
     "id": "969c2528-3724-47a5-81e8-513732978b82",
     "prev": "4828dad0-4f9a-4ca1-a3f0-46c7c73e6453",
     "regions": {
      "59905d87-4a20-4b38-bde2-9aebedc2df73": {
       "attrs": {
        "height": 0.8,
        "width": 0.8,
        "x": 0.1,
        "y": 0.1
       },
       "content": {
        "cell": "e8ea5be0-bb40-4e6d-aa18-b3a253e85c7a",
        "part": "whole"
       },
       "id": "59905d87-4a20-4b38-bde2-9aebedc2df73"
      }
     }
    },
    "c8c588e4-2c64-4d0b-b2f6-9817edc3814a": {
     "id": "c8c588e4-2c64-4d0b-b2f6-9817edc3814a",
     "prev": "374061d9-bb7d-4178-b1f9-5acaa16c7f1e",
     "regions": {
      "f171f423-5084-4a79-a671-1cbb96f160c0": {
       "attrs": {
        "height": 0.8,
        "width": 0.8,
        "x": 0.1,
        "y": 0.1
       },
       "content": {
        "cell": "644e20a5-8208-4462-9979-1eea18058181",
        "part": "whole"
       },
       "id": "f171f423-5084-4a79-a671-1cbb96f160c0"
      }
     }
    }
   },
   "themes": {}
  }
 },
 "nbformat": 4,
 "nbformat_minor": 2
}
